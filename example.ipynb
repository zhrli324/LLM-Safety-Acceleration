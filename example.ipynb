{
 "cells": [
  {
   "cell_type": "code",
   "execution_count": null,
   "metadata": {},
   "outputs": [],
   "source": [
    "from weak2strong import Weak2StrongExplanation, load_exp_data\n",
    "from inference import perform_inference, get_response\n",
    "from model_utils import load_model\n",
    "# if use local model, model_root_path should be a root path; \n",
    "# or the model is loaded from hugging face, this should be owner, like \"meta-llama/\"\n",
    "model_root_path = \"..\"\n",
    "# load_exp_data needs correct model_name so that load conversation template from fastchat.\n",
    "model_name = \"falcon-7b\"\n",
    "classifier_path = './classifier/test.pkl'"
   ]
  },
  {
   "cell_type": "code",
   "execution_count": null,
   "metadata": {},
   "outputs": [],
   "source": [
    "# if use_conv = True, the data will be loaded in chat format.\n",
    "# For ethical reasons we do not provide jailbreak_prompt.csv, so jailbreak actually is None\n",
    "normal, malicious, jailbreak = load_exp_data(use_conv=True, model_name=model_name)"
   ]
  },
  {
   "cell_type": "code",
   "execution_count": null,
   "metadata": {},
   "outputs": [],
   "source": [
    "# if return report = True, W2SE will print sklearn-style report\n",
    "# if visual = True, W2SE will return plot\n",
    "test = Weak2StrongExplanation(f\"{model_root_path}/{model_name}\", classifier_path, layer_nums=32, return_report=False, return_visual=True)"
   ]
  },
  {
   "cell_type": "code",
   "execution_count": null,
   "metadata": {},
   "outputs": [],
   "source": [
    "# classifier_list needs weak classifiers like [\"svm\", \"mlp\"] \n",
    "# if accuracy = True, W2SE will return line charts,\n",
    "# and heatmap requires you to call the vis_headmap function.\n",
    "test.explain({\"norm\":normal, \"mali\":malicious}, classifier_list=[\"svm\", \"mlp\"], accuracy=True)\n",
    "# In vis_heatmap function, you need to manually specify the starting layer and the ending layer\n",
    "test.vis_heatmap(normal, 16, 24, model_name=model_name)"
   ]
  },
  {
   "cell_type": "code",
   "execution_count": null,
   "metadata": {},
   "outputs": [],
   "source": [
    "model = load_model(f\"{model_root_path}/{model_name}\", classifier_path)"
   ]
  },
  {
   "cell_type": "code",
   "execution_count": null,
   "metadata": {},
   "outputs": [],
   "source": [
    "input_text = \"How's the weather today?\""
   ]
  },
  {
   "cell_type": "code",
   "execution_count": null,
   "metadata": {},
   "outputs": [],
   "source": [
    "hidden_states = perform_inference(model, input_text)"
   ]
  },
  {
   "cell_type": "code",
   "execution_count": null,
   "metadata": {},
   "outputs": [],
   "source": [
    "response = get_response(hidden_states)\n",
    "print(response)"
   ]
  }
 ],
 "metadata": {
  "language_info": {
   "name": "python"
  }
 },
 "nbformat": 4,
 "nbformat_minor": 2
}
